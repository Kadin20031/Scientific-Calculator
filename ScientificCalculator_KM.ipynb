{
 "cells": [
  {
   "cell_type": "markdown",
   "id": "c0100392",
   "metadata": {},
   "source": [
    "## Kadin McWilliams\n",
    "## Version 1 \n",
    "## CS 150\n",
    "## Fall 2023"
   ]
  },
  {
   "cell_type": "code",
   "execution_count": 39,
   "id": "6ab47d1a",
   "metadata": {},
   "outputs": [],
   "source": [
    "import math\n",
    "import random\n",
    "\n",
    "def sin(x): #1\n",
    "    return math.sin(x)\n",
    "#print(sin(10))\n",
    "\n",
    "def cos(x):#2\n",
    "    return math.cos(x)\n",
    "#print(cos(0))\n",
    "\n",
    "def tan(x):#3\n",
    "    return sin(x)/cos(x)\n",
    "#tan(1)\n",
    "\n",
    "def ln(x):#4\n",
    "    return math.log(x)\n",
    "#print(ln(2))\n",
    "\n",
    "def EXP(x,y):#5\n",
    "    return x*10**y\n",
    "#print(EXP(22,5))\n",
    "\n",
    "def pi():#6 \n",
    "    return math.pi\n",
    "#print(pi())\n",
    "def log(x,base): #7\n",
    "    return math.log(x,base)\n",
    "#log(20,4)\n",
    "def power(base,power): #8\n",
    "    return base**power\n",
    "#power(2,3)\n",
    "def sqrt(x):#9\n",
    "    return math.sqrt(x)\n",
    "#sqrt(4)\n",
    "def percent(x):#10\n",
    "    return x/100\n",
    "#percent(50)*80\n",
    "def fact(x):#11\n",
    "    return math.factorial(x)\n",
    "#fact(4)\n",
    "def e():#12\n",
    "    return math.e\n",
    "#e(2)\n",
    "def arcsin(x):#13\n",
    "    return math.asin(x)\n",
    "#arcsin(1)\n",
    "def arccos(x):#14\n",
    "    return math.acos(x)\n",
    "#arccos(1)\n",
    "def arctan(x):#15\n",
    "    return math.atan(x)\n",
    "#arctan(1)\n",
    "\n",
    "\n"
   ]
  },
  {
   "cell_type": "code",
   "execution_count": null,
   "id": "a841a526",
   "metadata": {},
   "outputs": [],
   "source": []
  },
  {
   "cell_type": "code",
   "execution_count": null,
   "id": "2a51e62a",
   "metadata": {},
   "outputs": [],
   "source": []
  }
 ],
 "metadata": {
  "kernelspec": {
   "display_name": "Python 3 (ipykernel)",
   "language": "python",
   "name": "python3"
  },
  "language_info": {
   "codemirror_mode": {
    "name": "ipython",
    "version": 3
   },
   "file_extension": ".py",
   "mimetype": "text/x-python",
   "name": "python",
   "nbconvert_exporter": "python",
   "pygments_lexer": "ipython3",
   "version": "3.11.4"
  }
 },
 "nbformat": 4,
 "nbformat_minor": 5
}
